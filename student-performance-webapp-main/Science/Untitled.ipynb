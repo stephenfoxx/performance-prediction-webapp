{
 "cells": [
  {
   "cell_type": "code",
   "execution_count": null,
   "id": "93ea7b04-7cab-48c1-aa09-229b2349f398",
   "metadata": {},
   "outputs": [],
   "source": [
    "plt.figure\n"
   ]
  },
  {
   "cell_type": "markdown",
   "id": "de58eb25-92bc-42fe-b2ad-a1930e2d14fd",
   "metadata": {},
   "source": [
    "this is a test page"
   ]
  },
  {
   "cell_type": "markdown",
   "id": "bad9e0bd-d66f-4a9c-98fe-0affd3093f39",
   "metadata": {},
   "source": [
    "**this is a text**"
   ]
  },
  {
   "cell_type": "markdown",
   "id": "ec799b37-8d14-4f71-acc1-050dc237919e",
   "metadata": {},
   "source": [
    "** this isa text **"
   ]
  },
  {
   "cell_type": "markdown",
   "id": "2314e68b-ba6d-4b92-87c2-ca1de867d06c",
   "metadata": {},
   "source": [
    "**a text**"
   ]
  },
  {
   "cell_type": "markdown",
   "id": "5254a4d5-9253-467f-afac-3ef6557ebf64",
   "metadata": {},
   "source": [
    "*hfhhf*"
   ]
  },
  {
   "cell_type": "markdown",
   "id": "9e6cf89b-eee8-4b9b-b02b-bb6c36225b51",
   "metadata": {},
   "source": [
    "***jddndnjvn***"
   ]
  },
  {
   "cell_type": "markdown",
   "id": "1252962f-bfc1-4cd5-a4e7-b86405783e8b",
   "metadata": {},
   "source": [
    "hdhfhfhf"
   ]
  },
  {
   "cell_type": "markdown",
   "id": "6310c388-faa3-442b-9deb-3fe9e7e1ad50",
   "metadata": {},
   "source": [
    "##thhjffj##"
   ]
  },
  {
   "cell_type": "markdown",
   "id": "5567a811-3d18-4f81-82a5-789f7b21cd83",
   "metadata": {},
   "source": [
    "#dbvd#"
   ]
  },
  {
   "cell_type": "code",
   "execution_count": null,
   "id": "59379db0-0b07-4b46-b225-5481aed91388",
   "metadata": {},
   "outputs": [],
   "source": []
  }
 ],
 "metadata": {
  "kernelspec": {
   "display_name": "Python 3 (ipykernel)",
   "language": "python",
   "name": "python3"
  },
  "language_info": {
   "codemirror_mode": {
    "name": "ipython",
    "version": 3
   },
   "file_extension": ".py",
   "mimetype": "text/x-python",
   "name": "python",
   "nbconvert_exporter": "python",
   "pygments_lexer": "ipython3",
   "version": "3.12.4"
  }
 },
 "nbformat": 4,
 "nbformat_minor": 5
}
